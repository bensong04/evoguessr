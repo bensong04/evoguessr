{
 "cells": [
  {
   "cell_type": "code",
   "execution_count": 2,
   "metadata": {},
   "outputs": [],
   "source": [
    "import seaborn as sns\n",
    "from ete3 import *\n",
    "from utils import *\n",
    "from SearchInit import *"
   ]
  },
  {
   "cell_type": "code",
   "execution_count": 3,
   "metadata": {},
   "outputs": [],
   "source": [
    "gene_trees = load_gene_trees(\"../trees\")\n",
    "original_species_tree = initial_species_tree(gene_trees)"
   ]
  },
  {
   "cell_type": "code",
   "execution_count": 27,
   "metadata": {},
   "outputs": [],
   "source": [
    "ITERATIONS = 18\n",
    "\n",
    "single_random_tree = multipleInit(lambda g,n : [random_true_initial_species_tree(g,n)],\n",
    "                greedySearch_NNI_SPR, gene_trees, 1, ITERATIONS)\n",
    "\n",
    "batched_random_tree = multipleInit(random_true_initial_species_tree,\n",
    "                greedySearch_NNI_SPR, gene_trees, 5, ITERATIONS)\n",
    "\n",
    "single_random_sample = multipleInit(lambda g,n : [random_from_gene_initial_species_tree(g,n)],\n",
    "                greedySearch_NNI_SPR, gene_trees, 1, ITERATIONS)\n",
    "\n",
    "batched_random_sample = multipleInit(random_from_gene_initial_species_tree,\n",
    "                greedySearch_NNI_SPR, gene_trees, 5, ITERATIONS)\n",
    "\n",
    "min_initial_tree = multipleInit(lambda g,n : [min_initial_species_tree(g,n)],\n",
    "                greedySearch_NNI_SPR, gene_trees, 1, ITERATIONS)"
   ]
  },
  {
   "cell_type": "code",
   "execution_count": 28,
   "metadata": {},
   "outputs": [
    {
     "data": {
      "text/plain": [
       "[Text(0, 0.5, 'Limiting symmetric duplication cost')]"
      ]
     },
     "execution_count": 28,
     "metadata": {},
     "output_type": "execute_result"
    },
    {
     "data": {
      "image/png": "[encoded data removed]",
      "text/plain": [
       "<Figure size 900x480 with 1 Axes>"
      ]
     },
     "metadata": {},
     "output_type": "display_data"
    }
   ],
   "source": [
    "p_bar = sns.color_palette(\"flare\")\n",
    "data_bar = {\n",
    "    \"Method\" : [\"Single random\", \"Batched random\", \"Single sample\", \"Batched sample\", \"Minimum initial\"],\n",
    "    \"Observation\" : [single_random_tree, batched_random_tree, single_random_sample, batched_random_sample, min_initial_tree]\n",
    "}\n",
    "plt = sns.barplot(data_bar, x = \"Method\", y = \"Observation\", palette=p_bar, alpha=.8)\n",
    "plt.figure.set_figwidth(9)\n",
    "plt.set(ylabel=\"Limiting symmetric duplication cost\")"
   ]
  },
  {
   "cell_type": "code",
   "execution_count": 13,
   "metadata": {},
   "outputs": [
    {
     "name": "stdout",
     "output_type": "stream",
     "text": [
      "    species     island  bill_length_mm  bill_depth_mm  flipper_length_mm  \\\n",
      "0    Adelie  Torgersen            39.1           18.7              181.0   \n",
      "1    Adelie  Torgersen            39.5           17.4              186.0   \n",
      "2    Adelie  Torgersen            40.3           18.0              195.0   \n",
      "3    Adelie  Torgersen             NaN            NaN                NaN   \n",
      "4    Adelie  Torgersen            36.7           19.3              193.0   \n",
      "..      ...        ...             ...            ...                ...   \n",
      "339  Gentoo     Biscoe             NaN            NaN                NaN   \n",
      "340  Gentoo     Biscoe            46.8           14.3              215.0   \n",
      "341  Gentoo     Biscoe            50.4           15.7              222.0   \n",
      "342  Gentoo     Biscoe            45.2           14.8              212.0   \n",
      "343  Gentoo     Biscoe            49.9           16.1              213.0   \n",
      "\n",
      "     body_mass_g     sex  \n",
      "0         3750.0    Male  \n",
      "1         3800.0  Female  \n",
      "2         3250.0  Female  \n",
      "3            NaN     NaN  \n",
      "4         3450.0  Female  \n",
      "..           ...     ...  \n",
      "339          NaN     NaN  \n",
      "340       4850.0  Female  \n",
      "341       5750.0    Male  \n",
      "342       5200.0  Female  \n",
      "343       5400.0    Male  \n",
      "\n",
      "[344 rows x 7 columns]\n"
     ]
    }
   ],
   "source": [
    "print(sns.load_dataset(\"penguins\"))"
   ]
  },
  {
   "cell_type": "code",
   "execution_count": 29,
   "metadata": {},
   "outputs": [],
   "source": [
    "AVG_OVER_N = 10\n",
    "ITERATIONS = 20\n",
    "\n",
    "#nni_spr\n",
    "data_nni_spr = [[] for _ in range(ITERATIONS)]\n",
    "for n in range(AVG_OVER_N):\n",
    "    [it.append(res) for it, res in zip(data_nni_spr, oneInit(random_true_initial_species_tree,\n",
    "            greedySearch_NNI_SPR, gene_trees, ITERATIONS))]\n",
    "\n",
    "#ss_spr\n",
    "data_ss_spr = [[] for _ in range(ITERATIONS)]\n",
    "for n in range(AVG_OVER_N):\n",
    "    [it.append(res) for it, res in zip(data_ss_spr, oneInit(random_true_initial_species_tree,\n",
    "            greedySearch_subSwap_SPR, gene_trees, ITERATIONS))]\n",
    "#nni only\n",
    "data_nni = [[] for _ in range(ITERATIONS)]\n",
    "for n in range(AVG_OVER_N):\n",
    "    [it.append(res) for it, res in zip(data_nni, oneInit(random_true_initial_species_tree,\n",
    "            greedySearch_NNI_only, gene_trees, ITERATIONS))]\n",
    "\n",
    "#spr only\n",
    "data_spr = [[] for _ in range(ITERATIONS)]\n",
    "for n in range(AVG_OVER_N):\n",
    "    [it.append(res) for it, res in zip(data_spr, oneInit(random_true_initial_species_tree,\n",
    "            greedySearch_SPR_only, gene_trees, ITERATIONS))]\n",
    "\n",
    "#ss only\n",
    "data_ss = [[] for _ in range(ITERATIONS)]\n",
    "for n in range(AVG_OVER_N):\n",
    "    [it.append(res) for it, res in zip(data_ss, oneInit(random_true_initial_species_tree,\n",
    "            greedySearch_subSwap_only, gene_trees, ITERATIONS))]"
   ]
  },
  {
   "cell_type": "code",
   "execution_count": 22,
   "metadata": {},
   "outputs": [
    {
     "name": "stdout",
     "output_type": "stream",
     "text": [
      "[[39.0, 41.0, 39.5, 39.5, 46.5, 39.5, 41.5, 35.5], [34.5, 35.5, 34.0, 33.5, 40.5, 35.0, 36.0, 29.5], [28.0, 33.0, 31.5, 30.5, 38.0, 28.5, 34.5, 26.5], [27.0, 31.0, 31.0, 30.5, 38.0, 26.5, 31.5, 25.0], [24.5, 28.5, 28.0, 30.5, 38.0, 25.0, 29.0, 22.5], [23.5, 27.0, 27.0, 30.5, 38.0, 23.0, 27.0, 22.5], [21.5, 26.5, 24.0, 30.5, 38.0, 22.5, 25.5, 22.5], [21.0, 25.5, 23.5, 30.5, 38.0, 21.0, 25.0, 22.5], [21.0, 24.5, 23.0, 30.5, 38.0, 21.0, 24.0, 22.5], [21.0, 24.5, 22.0, 30.5, 38.0, 21.0, 21.5, 22.5], [21.0, 24.5, 21.5, 30.5, 38.0, 21.0, 21.5, 22.5], [21.0, 24.5, 21.5, 30.5, 38.0, 21.0, 21.5, 22.5], [21.0, 24.5, 21.5, 30.5, 38.0, 21.0, 21.5, 22.5], [21.0, 24.5, 21.5, 30.5, 38.0, 21.0, 21.5, 22.5]]\n",
      "[[42.5, 39.0, 43.5, 35.5, 39.0, 38.0, 40.5, 32.0], [33.0, 37.5, 41.5, 31.5, 34.5, 34.5, 38.0, 31.0], [31.0, 37.0, 39.0, 26.0, 31.0, 31.5, 36.0, 27.5], [29.0, 36.5, 39.0, 25.0, 28.5, 30.5, 35.0, 25.5], [28.5, 32.5, 39.0, 23.0, 28.0, 30.0, 32.5, 24.5], [28.0, 32.5, 39.0, 22.0, 24.0, 27.5, 25.5, 23.5], [26.0, 32.5, 39.0, 20.5, 24.0, 27.0, 25.5, 22.5], [25.0, 32.5, 39.0, 20.5, 24.0, 25.5, 25.5, 22.5], [22.0, 32.5, 39.0, 20.5, 24.0, 21.5, 25.5, 22.5], [22.0, 32.5, 39.0, 20.5, 24.0, 21.5, 25.5, 22.5], [22.0, 32.5, 39.0, 20.5, 24.0, 21.5, 25.5, 22.5], [22.0, 32.5, 39.0, 20.5, 24.0, 21.5, 25.5, 22.5], [22.0, 32.5, 39.0, 20.5, 24.0, 21.5, 25.5, 22.5], [22.0, 32.5, 39.0, 20.5, 24.0, 21.5, 25.5, 22.5]]\n",
      "112\n",
      "112\n",
      "112\n",
      "112\n",
      "112\n"
     ]
    }
   ],
   "source": [
    "print(data_nni_spr)\n",
    "print(data_ss_spr)\n",
    "def flatten(matrix: list[list]) -> list:\n",
    "    return [item for row in matrix for item in row]\n",
    "\n",
    "observations = []\n",
    "methods = []\n",
    "iteration = []\n",
    "\n",
    "for meth in (\"NNI/SPR alternating\", \"SubSwap/SPR alternating\", \"NNI only\", \"SPR only\", \"SubSwap only\"):\n",
    "    if meth == \"NNI/SPR alternating\":\n",
    "        fl = flatten(data_nni_spr)\n",
    "        print(len(fl))\n",
    "        methods.extend([meth for _ in range(len(fl))])\n",
    "        observations.extend(fl)\n",
    "        iteration.extend([i//AVG_OVER_N for i in range(len(fl))])\n",
    "    elif meth == \"SubSwap/SPR alternating\":\n",
    "        fl = flatten(data_ss_spr)\n",
    "        print(len(fl))\n",
    "        methods.extend([meth for _ in range(len(fl))])\n",
    "        observations.extend(fl)\n",
    "        iteration.extend([i//AVG_OVER_N for i in range(len(fl))])\n",
    "    elif meth == \"NNI only\":\n",
    "        fl = flatten(data_nni)\n",
    "        print(len(fl))\n",
    "        methods.extend([meth for _ in range(len(fl))])\n",
    "        observations.extend(fl)\n",
    "        iteration.extend([i//AVG_OVER_N for i in range(len(fl))])\n",
    "    elif meth == \"SPR only\":\n",
    "        fl = flatten(data_spr)\n",
    "        print(len(fl))\n",
    "        methods.extend([meth for _ in range(len(fl))])\n",
    "        observations.extend(fl)\n",
    "        iteration.extend([i//AVG_OVER_N for i in range(len(fl))])\n",
    "    else:\n",
    "        fl = flatten(data_ss)\n",
    "        print(len(fl))\n",
    "        methods.extend([meth for _ in range(len(fl))])\n",
    "        observations.extend(fl)\n",
    "        iteration.extend([i//AVG_OVER_N for i in range(len(fl))])\n",
    "\n",
    "data_rand = {\n",
    "    \"Method\" : methods,\n",
    "    \"Losses\" : observations, \n",
    "    \"Iteration\" : iteration\n",
    "}"
   ]
  }
 ],
 "metadata": {
  "kernelspec": {
   "display_name": "base",
   "language": "python",
   "name": "python3"
  },
  "language_info": {
   "codemirror_mode": {
    "name": "ipython",
    "version": 3
   },
   "file_extension": ".py",
   "mimetype": "text/x-python",
   "name": "python",
   "nbconvert_exporter": "python",
   "pygments_lexer": "ipython3",
   "version": "3.11.3"
  },
  "orig_nbformat": 4
 },
 "nbformat": 4,
 "nbformat_minor": 2
}
